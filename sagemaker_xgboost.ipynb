{
 "cells": [
  {
   "cell_type": "code",
   "execution_count": 1,
   "id": "47c70279",
   "metadata": {},
   "outputs": [
    {
     "name": "stdout",
     "output_type": "stream",
     "text": [
      "Success - the MySageMakerInstance is in the us-east-2 region. You will use the 825641698319.dkr.ecr.us-east-2.amazonaws.com/xgboost:latest container for your SageMaker endpoint.\n"
     ]
    }
   ],
   "source": [
    "# import libraries\n",
    "import boto3, re, sys, math, json, os, sagemaker, urllib.request\n",
    "from sagemaker import get_execution_role\n",
    "import numpy as np                                \n",
    "import pandas as pd                               \n",
    "import matplotlib.pyplot as plt                   \n",
    "from IPython.display import Image                 \n",
    "from IPython.display import display               \n",
    "from time import gmtime, strftime                 \n",
    "from sagemaker.predictor import csv_serializer   \n",
    "\n",
    "# Define IAM role\n",
    "role = get_execution_role()\n",
    "prefix = 'sagemaker/DEMO-xgboost-dm'\n",
    "containers = {'us-west-2': '433757028032.dkr.ecr.us-west-2.amazonaws.com/xgboost:latest',\n",
    "              'us-east-1': '811284229777.dkr.ecr.us-east-1.amazonaws.com/xgboost:latest',\n",
    "              'us-east-2': '825641698319.dkr.ecr.us-east-2.amazonaws.com/xgboost:latest',\n",
    "              'eu-west-1': '685385470294.dkr.ecr.eu-west-1.amazonaws.com/xgboost:latest'} # each region has its XGBoost container\n",
    "\n",
    "my_region = boto3.session.Session().region_name # set the region of the instance\n",
    "print(\"Success - the MySageMakerInstance is in the \" + my_region + \" region. You will use the \" + containers[my_region] + \" container for your SageMaker endpoint.\")"
   ]
  },
  {
   "cell_type": "code",
   "execution_count": 6,
   "id": "1c4a7308",
   "metadata": {},
   "outputs": [
    {
     "name": "stdout",
     "output_type": "stream",
     "text": [
      "S3 bucket created successfully\n"
     ]
    }
   ],
   "source": [
    "bucket_name = 'satyam'\n",
    "s3 = boto3.resource('s3')\n",
    "try:\n",
    "    if  my_region == 'us-east-1':\n",
    "      s3.create_bucket(Bucket=bucket_name)\n",
    "    else: \n",
    "      s3.create_bucket(Bucket=bucket_name, CreateBucketConfiguration={ 'LocationConstraint': my_region })\n",
    "    print('S3 bucket created successfully')\n",
    "except Exception as e:\n",
    "    print('S3 error: ',e)"
   ]
  },
  {
   "cell_type": "code",
   "execution_count": 7,
   "id": "629160df",
   "metadata": {},
   "outputs": [
    {
     "name": "stdout",
     "output_type": "stream",
     "text": [
      "Success: downloaded bank_clean.csv.\n",
      "Success: Data loaded into dataframe.\n"
     ]
    }
   ],
   "source": [
    "try:\n",
    "  urllib.request.urlretrieve (\"https://d1.awsstatic.com/tmt/build-train-deploy-machine-learning-model-sagemaker/bank_clean.27f01fbbdf43271788427f3682996ae29ceca05d.csv\", \"bank_clean.csv\")\n",
    "  print('Success: downloaded bank_clean.csv.')\n",
    "except Exception as e:\n",
    "  print('Data load error: ',e)\n",
    "\n",
    "try:\n",
    "  model_data = pd.read_csv('./bank_clean.csv',index_col=0)\n",
    "  print('Success: Data loaded into dataframe.')\n",
    "except Exception as e:\n",
    "    print('Data load error: ',e)"
   ]
  },
  {
   "cell_type": "code",
   "execution_count": 10,
   "id": "563a2e0e",
   "metadata": {},
   "outputs": [
    {
     "name": "stdout",
     "output_type": "stream",
     "text": [
      "(28831, 61) (12357, 61)\n"
     ]
    }
   ],
   "source": [
    "train_data, test_data = np.split(model_data.sample(frac=1, random_state=1729), [int(0.7 * len(model_data))])\n",
    "print(train_data.shape, test_data.shape)"
   ]
  },
  {
   "cell_type": "code",
   "execution_count": 27,
   "id": "729d6662",
   "metadata": {},
   "outputs": [],
   "source": [
    "X = model_data.iloc[:,:-2] \n",
    "y = model_data.iloc[:,-1]\n",
    "\n",
    "from sklearn.model_selection import train_test_split\n",
    "X_train, X_test, y_train, y_test = train_test_split(X, y, test_size = 0.3, random_state = 42)"
   ]
  },
  {
   "cell_type": "code",
   "execution_count": 29,
   "id": "fc7cc23d",
   "metadata": {},
   "outputs": [],
   "source": [
    "pd.concat([y_train, X_train], axis=1).to_csv('train.csv', index=False, header=False)\n",
    "\n",
    "boto3.Session().resource('s3').Bucket(bucket_name).Object(os.path.join(prefix, 'train/train.csv')).upload_file('train.csv')\n",
    "s3_input_train = sagemaker.inputs.TrainingInput(s3_data='s3://{}/{}/train'.format(bucket_name, prefix), content_type='csv')"
   ]
  },
  {
   "cell_type": "code",
   "execution_count": 30,
   "id": "319e31cd",
   "metadata": {},
   "outputs": [],
   "source": [
    "sess = sagemaker.Session()\n",
    "\n",
    "xgb = sagemaker.estimator.Estimator(containers[my_region],role, \n",
    "                                    instance_count=1, instance_type='ml.m4.xlarge',\n",
    "                                    output_path='s3://{}/{}/output'.format(bucket_name, prefix),\n",
    "                                    sagemaker_session=sess)\n",
    "\n",
    "xgb.set_hyperparameters(max_depth=10, eta=0.2, gamma=4, min_child_weight=6, subsample=0.8, \n",
    "                        silent=0, objective='binary:logistic', num_round=100)"
   ]
  },
  {
   "cell_type": "code",
   "execution_count": 31,
   "id": "1c100711",
   "metadata": {},
   "outputs": [
    {
     "name": "stdout",
     "output_type": "stream",
     "text": [
      "2021-05-10 13:11:26 Starting - Starting the training job...\n",
      "2021-05-10 13:11:49 Starting - Launching requested ML instancesProfilerReport-1620652286: InProgress\n",
      ".........\n",
      "2021-05-10 13:13:22 Starting - Preparing the instances for training......\n",
      "2021-05-10 13:14:23 Downloading - Downloading input data...\n",
      "2021-05-10 13:14:50 Training - Downloading the training image.\u001b[34mArguments: train\u001b[0m\n",
      "\u001b[34m[2021-05-10:13:14:59:INFO] Running standalone xgboost training.\u001b[0m\n",
      "\u001b[34m[2021-05-10:13:14:59:INFO] Path /opt/ml/input/data/validation does not exist!\u001b[0m\n",
      "\u001b[34m[2021-05-10:13:14:59:INFO] File size need to be processed in the node: 3.38mb. Available memory size in the node: 8400.77mb\u001b[0m\n",
      "\u001b[34m[2021-05-10:13:14:59:INFO] Determined delimiter of CSV input is ','\u001b[0m\n",
      "\u001b[34m[13:14:59] S3DistributionType set as FullyReplicated\u001b[0m\n",
      "\u001b[34m[13:14:59] 28831x59 matrix with 1701029 entries loaded from /opt/ml/input/data/train?format=csv&label_column=0&delimiter=,\u001b[0m\n",
      "\u001b[34m[13:14:59] src/tree/updater_prune.cc:74: tree pruning end, 1 roots, 62 extra nodes, 72 pruned nodes, max_depth=10\u001b[0m\n",
      "\u001b[34m[0]#011train-error:0.100725\u001b[0m\n",
      "\u001b[34m[13:15:00] src/tree/updater_prune.cc:74: tree pruning end, 1 roots, 82 extra nodes, 64 pruned nodes, max_depth=10\u001b[0m\n",
      "\u001b[34m[1]#011train-error:0.099025\u001b[0m\n",
      "\u001b[34m[13:15:00] src/tree/updater_prune.cc:74: tree pruning end, 1 roots, 76 extra nodes, 76 pruned nodes, max_depth=10\u001b[0m\n",
      "\u001b[34m[2]#011train-error:0.09906\u001b[0m\n",
      "\u001b[34m[13:15:00] src/tree/updater_prune.cc:74: tree pruning end, 1 roots, 62 extra nodes, 100 pruned nodes, max_depth=10\u001b[0m\n",
      "\u001b[34m[3]#011train-error:0.099303\u001b[0m\n",
      "\u001b[34m[13:15:00] src/tree/updater_prune.cc:74: tree pruning end, 1 roots, 78 extra nodes, 94 pruned nodes, max_depth=10\u001b[0m\n",
      "\u001b[34m[4]#011train-error:0.098887\u001b[0m\n",
      "\u001b[34m[13:15:00] src/tree/updater_prune.cc:74: tree pruning end, 1 roots, 60 extra nodes, 132 pruned nodes, max_depth=10\u001b[0m\n",
      "\u001b[34m[5]#011train-error:0.09847\u001b[0m\n",
      "\u001b[34m[13:15:00] src/tree/updater_prune.cc:74: tree pruning end, 1 roots, 58 extra nodes, 144 pruned nodes, max_depth=10\u001b[0m\n",
      "\u001b[34m[6]#011train-error:0.098644\u001b[0m\n",
      "\u001b[34m[13:15:00] src/tree/updater_prune.cc:74: tree pruning end, 1 roots, 68 extra nodes, 174 pruned nodes, max_depth=10\u001b[0m\n",
      "\u001b[34m[7]#011train-error:0.098228\u001b[0m\n",
      "\u001b[34m[13:15:00] src/tree/updater_prune.cc:74: tree pruning end, 1 roots, 96 extra nodes, 146 pruned nodes, max_depth=10\u001b[0m\n",
      "\u001b[34m[8]#011train-error:0.098574\u001b[0m\n",
      "\u001b[34m[13:15:00] src/tree/updater_prune.cc:74: tree pruning end, 1 roots, 70 extra nodes, 144 pruned nodes, max_depth=10\u001b[0m\n",
      "\u001b[34m[9]#011train-error:0.098297\u001b[0m\n",
      "\u001b[34m[13:15:00] src/tree/updater_prune.cc:74: tree pruning end, 1 roots, 96 extra nodes, 164 pruned nodes, max_depth=10\u001b[0m\n",
      "\u001b[34m[10]#011train-error:0.098332\u001b[0m\n",
      "\u001b[34m[13:15:00] src/tree/updater_prune.cc:74: tree pruning end, 1 roots, 76 extra nodes, 176 pruned nodes, max_depth=10\u001b[0m\n",
      "\u001b[34m[11]#011train-error:0.09795\u001b[0m\n",
      "\u001b[34m[13:15:01] src/tree/updater_prune.cc:74: tree pruning end, 1 roots, 72 extra nodes, 158 pruned nodes, max_depth=10\u001b[0m\n",
      "\u001b[34m[12]#011train-error:0.097777\u001b[0m\n",
      "\u001b[34m[13:15:01] src/tree/updater_prune.cc:74: tree pruning end, 1 roots, 54 extra nodes, 136 pruned nodes, max_depth=10\u001b[0m\n",
      "\u001b[34m[13]#011train-error:0.09743\u001b[0m\n",
      "\u001b[34m[13:15:01] src/tree/updater_prune.cc:74: tree pruning end, 1 roots, 46 extra nodes, 174 pruned nodes, max_depth=9\u001b[0m\n",
      "\u001b[34m[14]#011train-error:0.097256\u001b[0m\n",
      "\u001b[34m[13:15:01] src/tree/updater_prune.cc:74: tree pruning end, 1 roots, 62 extra nodes, 178 pruned nodes, max_depth=10\u001b[0m\n",
      "\u001b[34m[15]#011train-error:0.097083\u001b[0m\n",
      "\u001b[34m[13:15:01] src/tree/updater_prune.cc:74: tree pruning end, 1 roots, 62 extra nodes, 124 pruned nodes, max_depth=10\u001b[0m\n",
      "\u001b[34m[16]#011train-error:0.096459\u001b[0m\n",
      "\u001b[34m[13:15:01] src/tree/updater_prune.cc:74: tree pruning end, 1 roots, 70 extra nodes, 126 pruned nodes, max_depth=10\u001b[0m\n",
      "\u001b[34m[17]#011train-error:0.096424\u001b[0m\n",
      "\u001b[34m[13:15:01] src/tree/updater_prune.cc:74: tree pruning end, 1 roots, 66 extra nodes, 110 pruned nodes, max_depth=10\u001b[0m\n",
      "\u001b[34m[18]#011train-error:0.096424\u001b[0m\n",
      "\u001b[34m[13:15:01] src/tree/updater_prune.cc:74: tree pruning end, 1 roots, 52 extra nodes, 106 pruned nodes, max_depth=10\u001b[0m\n",
      "\u001b[34m[19]#011train-error:0.096424\u001b[0m\n",
      "\u001b[34m[13:15:01] src/tree/updater_prune.cc:74: tree pruning end, 1 roots, 60 extra nodes, 94 pruned nodes, max_depth=10\u001b[0m\n",
      "\u001b[34m[20]#011train-error:0.096042\u001b[0m\n",
      "\u001b[34m[13:15:02] src/tree/updater_prune.cc:74: tree pruning end, 1 roots, 52 extra nodes, 84 pruned nodes, max_depth=10\u001b[0m\n",
      "\u001b[34m[21]#011train-error:0.095626\u001b[0m\n",
      "\u001b[34m[13:15:02] src/tree/updater_prune.cc:74: tree pruning end, 1 roots, 56 extra nodes, 112 pruned nodes, max_depth=10\u001b[0m\n",
      "\u001b[34m[22]#011train-error:0.095626\u001b[0m\n",
      "\u001b[34m[13:15:02] src/tree/updater_prune.cc:74: tree pruning end, 1 roots, 40 extra nodes, 74 pruned nodes, max_depth=10\u001b[0m\n",
      "\u001b[34m[23]#011train-error:0.095349\u001b[0m\n",
      "\u001b[34m[13:15:02] src/tree/updater_prune.cc:74: tree pruning end, 1 roots, 40 extra nodes, 116 pruned nodes, max_depth=10\u001b[0m\n",
      "\u001b[34m[24]#011train-error:0.095522\u001b[0m\n",
      "\u001b[34m[13:15:02] src/tree/updater_prune.cc:74: tree pruning end, 1 roots, 88 extra nodes, 120 pruned nodes, max_depth=10\u001b[0m\n",
      "\u001b[34m[25]#011train-error:0.095106\u001b[0m\n",
      "\u001b[34m[13:15:02] src/tree/updater_prune.cc:74: tree pruning end, 1 roots, 40 extra nodes, 48 pruned nodes, max_depth=10\u001b[0m\n",
      "\u001b[34m[26]#011train-error:0.094933\u001b[0m\n",
      "\u001b[34m[13:15:02] src/tree/updater_prune.cc:74: tree pruning end, 1 roots, 22 extra nodes, 76 pruned nodes, max_depth=6\u001b[0m\n",
      "\u001b[34m[27]#011train-error:0.095002\u001b[0m\n",
      "\u001b[34m[13:15:02] src/tree/updater_prune.cc:74: tree pruning end, 1 roots, 64 extra nodes, 96 pruned nodes, max_depth=10\u001b[0m\n",
      "\u001b[34m[28]#011train-error:0.094828\u001b[0m\n",
      "\u001b[34m[13:15:02] src/tree/updater_prune.cc:74: tree pruning end, 1 roots, 46 extra nodes, 50 pruned nodes, max_depth=10\u001b[0m\n",
      "\u001b[34m[29]#011train-error:0.094586\u001b[0m\n",
      "\u001b[34m[13:15:02] src/tree/updater_prune.cc:74: tree pruning end, 1 roots, 56 extra nodes, 130 pruned nodes, max_depth=10\u001b[0m\n",
      "\u001b[34m[30]#011train-error:0.094343\u001b[0m\n",
      "\u001b[34m[13:15:02] src/tree/updater_prune.cc:74: tree pruning end, 1 roots, 44 extra nodes, 58 pruned nodes, max_depth=10\u001b[0m\n",
      "\u001b[34m[31]#011train-error:0.094169\u001b[0m\n",
      "\u001b[34m[13:15:03] src/tree/updater_prune.cc:74: tree pruning end, 1 roots, 42 extra nodes, 50 pruned nodes, max_depth=9\u001b[0m\n",
      "\u001b[34m[32]#011train-error:0.093892\u001b[0m\n",
      "\u001b[34m[13:15:03] src/tree/updater_prune.cc:74: tree pruning end, 1 roots, 46 extra nodes, 116 pruned nodes, max_depth=10\u001b[0m\n",
      "\u001b[34m[33]#011train-error:0.0941\u001b[0m\n",
      "\u001b[34m[13:15:03] src/tree/updater_prune.cc:74: tree pruning end, 1 roots, 34 extra nodes, 86 pruned nodes, max_depth=10\u001b[0m\n",
      "\u001b[34m[34]#011train-error:0.094204\u001b[0m\n",
      "\u001b[34m[13:15:03] src/tree/updater_prune.cc:74: tree pruning end, 1 roots, 78 extra nodes, 156 pruned nodes, max_depth=10\u001b[0m\n",
      "\u001b[34m[35]#011train-error:0.093857\u001b[0m\n",
      "\u001b[34m[13:15:03] src/tree/updater_prune.cc:74: tree pruning end, 1 roots, 26 extra nodes, 88 pruned nodes, max_depth=10\u001b[0m\n",
      "\u001b[34m[36]#011train-error:0.09358\u001b[0m\n",
      "\u001b[34m[13:15:03] src/tree/updater_prune.cc:74: tree pruning end, 1 roots, 8 extra nodes, 72 pruned nodes, max_depth=4\u001b[0m\n",
      "\u001b[34m[37]#011train-error:0.093302\u001b[0m\n",
      "\u001b[34m[13:15:03] src/tree/updater_prune.cc:74: tree pruning end, 1 roots, 54 extra nodes, 98 pruned nodes, max_depth=10\u001b[0m\n",
      "\u001b[34m[38]#011train-error:0.092817\u001b[0m\n",
      "\u001b[34m[13:15:03] src/tree/updater_prune.cc:74: tree pruning end, 1 roots, 84 extra nodes, 130 pruned nodes, max_depth=10\u001b[0m\n",
      "\u001b[34m[39]#011train-error:0.09306\u001b[0m\n",
      "\u001b[34m[13:15:03] src/tree/updater_prune.cc:74: tree pruning end, 1 roots, 56 extra nodes, 192 pruned nodes, max_depth=10\u001b[0m\n",
      "\u001b[34m[40]#011train-error:0.092782\u001b[0m\n",
      "\u001b[34m[13:15:03] src/tree/updater_prune.cc:74: tree pruning end, 1 roots, 24 extra nodes, 152 pruned nodes, max_depth=8\u001b[0m\n",
      "\u001b[34m[41]#011train-error:0.092435\u001b[0m\n",
      "\u001b[34m[13:15:03] src/tree/updater_prune.cc:74: tree pruning end, 1 roots, 32 extra nodes, 72 pruned nodes, max_depth=10\u001b[0m\n",
      "\u001b[34m[42]#011train-error:0.092505\u001b[0m\n",
      "\u001b[34m[13:15:04] src/tree/updater_prune.cc:74: tree pruning end, 1 roots, 48 extra nodes, 156 pruned nodes, max_depth=9\u001b[0m\n",
      "\u001b[34m[43]#011train-error:0.092609\u001b[0m\n",
      "\u001b[34m[13:15:04] src/tree/updater_prune.cc:74: tree pruning end, 1 roots, 48 extra nodes, 82 pruned nodes, max_depth=10\u001b[0m\n",
      "\u001b[34m[44]#011train-error:0.09247\u001b[0m\n",
      "\u001b[34m[13:15:04] src/tree/updater_prune.cc:74: tree pruning end, 1 roots, 54 extra nodes, 82 pruned nodes, max_depth=10\u001b[0m\n",
      "\u001b[34m[45]#011train-error:0.092296\u001b[0m\n",
      "\u001b[34m[13:15:04] src/tree/updater_prune.cc:74: tree pruning end, 1 roots, 36 extra nodes, 98 pruned nodes, max_depth=10\u001b[0m\n",
      "\u001b[34m[46]#011train-error:0.092296\u001b[0m\n",
      "\u001b[34m[13:15:04] src/tree/updater_prune.cc:74: tree pruning end, 1 roots, 58 extra nodes, 148 pruned nodes, max_depth=10\u001b[0m\n",
      "\u001b[34m[47]#011train-error:0.092054\u001b[0m\n",
      "\u001b[34m[13:15:04] src/tree/updater_prune.cc:74: tree pruning end, 1 roots, 40 extra nodes, 92 pruned nodes, max_depth=9\u001b[0m\n",
      "\u001b[34m[48]#011train-error:0.092262\u001b[0m\n",
      "\u001b[34m[13:15:04] src/tree/updater_prune.cc:74: tree pruning end, 1 roots, 40 extra nodes, 106 pruned nodes, max_depth=10\u001b[0m\n",
      "\u001b[34m[49]#011train-error:0.092019\u001b[0m\n",
      "\u001b[34m[13:15:04] src/tree/updater_prune.cc:74: tree pruning end, 1 roots, 48 extra nodes, 122 pruned nodes, max_depth=10\u001b[0m\n",
      "\u001b[34m[50]#011train-error:0.092192\u001b[0m\n",
      "\u001b[34m[13:15:04] src/tree/updater_prune.cc:74: tree pruning end, 1 roots, 48 extra nodes, 98 pruned nodes, max_depth=10\u001b[0m\n",
      "\u001b[34m[51]#011train-error:0.091846\u001b[0m\n",
      "\u001b[34m[13:15:04] src/tree/updater_prune.cc:74: tree pruning end, 1 roots, 50 extra nodes, 156 pruned nodes, max_depth=10\u001b[0m\n",
      "\u001b[34m[52]#011train-error:0.091533\u001b[0m\n",
      "\u001b[34m[13:15:04] src/tree/updater_prune.cc:74: tree pruning end, 1 roots, 24 extra nodes, 106 pruned nodes, max_depth=8\u001b[0m\n",
      "\u001b[34m[53]#011train-error:0.091499\u001b[0m\n",
      "\u001b[34m[13:15:05] src/tree/updater_prune.cc:74: tree pruning end, 1 roots, 36 extra nodes, 120 pruned nodes, max_depth=10\u001b[0m\n",
      "\u001b[34m[54]#011train-error:0.091464\u001b[0m\n",
      "\u001b[34m[13:15:05] src/tree/updater_prune.cc:74: tree pruning end, 1 roots, 54 extra nodes, 128 pruned nodes, max_depth=10\u001b[0m\n",
      "\u001b[34m[55]#011train-error:0.090978\u001b[0m\n",
      "\u001b[34m[13:15:05] src/tree/updater_prune.cc:74: tree pruning end, 1 roots, 18 extra nodes, 124 pruned nodes, max_depth=7\u001b[0m\n",
      "\u001b[34m[56]#011train-error:0.090736\u001b[0m\n",
      "\u001b[34m[13:15:05] src/tree/updater_prune.cc:74: tree pruning end, 1 roots, 36 extra nodes, 112 pruned nodes, max_depth=8\u001b[0m\n",
      "\u001b[34m[57]#011train-error:0.090909\u001b[0m\n",
      "\u001b[34m[13:15:05] src/tree/updater_prune.cc:74: tree pruning end, 1 roots, 40 extra nodes, 106 pruned nodes, max_depth=10\u001b[0m\n",
      "\u001b[34m[58]#011train-error:0.09077\u001b[0m\n",
      "\u001b[34m[13:15:05] src/tree/updater_prune.cc:74: tree pruning end, 1 roots, 26 extra nodes, 122 pruned nodes, max_depth=10\u001b[0m\n",
      "\u001b[34m[59]#011train-error:0.090597\u001b[0m\n",
      "\u001b[34m[13:15:05] src/tree/updater_prune.cc:74: tree pruning end, 1 roots, 24 extra nodes, 170 pruned nodes, max_depth=8\u001b[0m\n",
      "\u001b[34m[60]#011train-error:0.090597\u001b[0m\n",
      "\u001b[34m[13:15:05] src/tree/updater_prune.cc:74: tree pruning end, 1 roots, 24 extra nodes, 88 pruned nodes, max_depth=10\u001b[0m\n",
      "\u001b[34m[61]#011train-error:0.090354\u001b[0m\n",
      "\u001b[34m[13:15:05] src/tree/updater_prune.cc:74: tree pruning end, 1 roots, 38 extra nodes, 90 pruned nodes, max_depth=10\u001b[0m\n",
      "\u001b[34m[62]#011train-error:0.089973\u001b[0m\n",
      "\u001b[34m[13:15:05] src/tree/updater_prune.cc:74: tree pruning end, 1 roots, 42 extra nodes, 116 pruned nodes, max_depth=10\u001b[0m\n",
      "\u001b[34m[63]#011train-error:0.089938\u001b[0m\n",
      "\u001b[34m[13:15:05] src/tree/updater_prune.cc:74: tree pruning end, 1 roots, 60 extra nodes, 154 pruned nodes, max_depth=10\u001b[0m\n",
      "\u001b[34m[64]#011train-error:0.089938\u001b[0m\n",
      "\u001b[34m[13:15:06] src/tree/updater_prune.cc:74: tree pruning end, 1 roots, 22 extra nodes, 70 pruned nodes, max_depth=10\u001b[0m\n",
      "\u001b[34m[65]#011train-error:0.089869\u001b[0m\n",
      "\u001b[34m[13:15:06] src/tree/updater_prune.cc:74: tree pruning end, 1 roots, 42 extra nodes, 122 pruned nodes, max_depth=10\u001b[0m\n",
      "\u001b[34m[66]#011train-error:0.089487\u001b[0m\n",
      "\u001b[34m[13:15:06] src/tree/updater_prune.cc:74: tree pruning end, 1 roots, 42 extra nodes, 86 pruned nodes, max_depth=10\u001b[0m\n",
      "\u001b[34m[67]#011train-error:0.089314\u001b[0m\n",
      "\u001b[34m[13:15:06] src/tree/updater_prune.cc:74: tree pruning end, 1 roots, 36 extra nodes, 60 pruned nodes, max_depth=10\u001b[0m\n",
      "\u001b[34m[68]#011train-error:0.089973\u001b[0m\n",
      "\u001b[34m[13:15:06] src/tree/updater_prune.cc:74: tree pruning end, 1 roots, 32 extra nodes, 108 pruned nodes, max_depth=7\u001b[0m\n",
      "\u001b[34m[69]#011train-error:0.089973\u001b[0m\n",
      "\u001b[34m[13:15:06] src/tree/updater_prune.cc:74: tree pruning end, 1 roots, 30 extra nodes, 82 pruned nodes, max_depth=9\u001b[0m\n",
      "\u001b[34m[70]#011train-error:0.090146\u001b[0m\n",
      "\u001b[34m[13:15:06] src/tree/updater_prune.cc:74: tree pruning end, 1 roots, 16 extra nodes, 96 pruned nodes, max_depth=8\u001b[0m\n",
      "\u001b[34m[71]#011train-error:0.090181\u001b[0m\n",
      "\u001b[34m[13:15:06] src/tree/updater_prune.cc:74: tree pruning end, 1 roots, 28 extra nodes, 56 pruned nodes, max_depth=9\u001b[0m\n",
      "\u001b[34m[72]#011train-error:0.08973\u001b[0m\n",
      "\u001b[34m[13:15:06] src/tree/updater_prune.cc:74: tree pruning end, 1 roots, 40 extra nodes, 104 pruned nodes, max_depth=9\u001b[0m\n",
      "\u001b[34m[73]#011train-error:0.090042\u001b[0m\n",
      "\u001b[34m[13:15:06] src/tree/updater_prune.cc:74: tree pruning end, 1 roots, 56 extra nodes, 110 pruned nodes, max_depth=10\u001b[0m\n",
      "\u001b[34m[74]#011train-error:0.089556\u001b[0m\n",
      "\u001b[34m[13:15:06] src/tree/updater_prune.cc:74: tree pruning end, 1 roots, 46 extra nodes, 114 pruned nodes, max_depth=10\u001b[0m\n",
      "\u001b[34m[75]#011train-error:0.089556\u001b[0m\n",
      "\u001b[34m[13:15:06] src/tree/updater_prune.cc:74: tree pruning end, 1 roots, 42 extra nodes, 128 pruned nodes, max_depth=10\u001b[0m\n",
      "\u001b[34m[76]#011train-error:0.089799\u001b[0m\n",
      "\u001b[34m[13:15:07] src/tree/updater_prune.cc:74: tree pruning end, 1 roots, 54 extra nodes, 124 pruned nodes, max_depth=10\u001b[0m\n",
      "\u001b[34m[77]#011train-error:0.089695\u001b[0m\n",
      "\u001b[34m[13:15:07] src/tree/updater_prune.cc:74: tree pruning end, 1 roots, 32 extra nodes, 112 pruned nodes, max_depth=10\u001b[0m\n",
      "\u001b[34m[78]#011train-error:0.089764\u001b[0m\n",
      "\u001b[34m[13:15:07] src/tree/updater_prune.cc:74: tree pruning end, 1 roots, 36 extra nodes, 104 pruned nodes, max_depth=10\u001b[0m\n",
      "\u001b[34m[79]#011train-error:0.089556\u001b[0m\n",
      "\u001b[34m[13:15:07] src/tree/updater_prune.cc:74: tree pruning end, 1 roots, 66 extra nodes, 132 pruned nodes, max_depth=10\u001b[0m\n",
      "\u001b[34m[80]#011train-error:0.089383\u001b[0m\n",
      "\u001b[34m[13:15:07] src/tree/updater_prune.cc:74: tree pruning end, 1 roots, 48 extra nodes, 126 pruned nodes, max_depth=10\u001b[0m\n",
      "\u001b[34m[81]#011train-error:0.089452\u001b[0m\n",
      "\u001b[34m[13:15:07] src/tree/updater_prune.cc:74: tree pruning end, 1 roots, 22 extra nodes, 66 pruned nodes, max_depth=10\u001b[0m\n",
      "\u001b[34m[82]#011train-error:0.08921\u001b[0m\n",
      "\u001b[34m[13:15:07] src/tree/updater_prune.cc:74: tree pruning end, 1 roots, 30 extra nodes, 130 pruned nodes, max_depth=10\u001b[0m\n",
      "\u001b[34m[83]#011train-error:0.089175\u001b[0m\n",
      "\u001b[34m[13:15:07] src/tree/updater_prune.cc:74: tree pruning end, 1 roots, 46 extra nodes, 92 pruned nodes, max_depth=10\u001b[0m\n",
      "\u001b[34m[84]#011train-error:0.088932\u001b[0m\n",
      "\u001b[34m[13:15:07] src/tree/updater_prune.cc:74: tree pruning end, 1 roots, 24 extra nodes, 80 pruned nodes, max_depth=9\u001b[0m\n",
      "\u001b[34m[85]#011train-error:0.088863\u001b[0m\n",
      "\u001b[34m[13:15:07] src/tree/updater_prune.cc:74: tree pruning end, 1 roots, 32 extra nodes, 146 pruned nodes, max_depth=10\u001b[0m\n",
      "\u001b[34m[86]#011train-error:0.088967\u001b[0m\n",
      "\u001b[34m[13:15:07] src/tree/updater_prune.cc:74: tree pruning end, 1 roots, 30 extra nodes, 76 pruned nodes, max_depth=10\u001b[0m\n",
      "\u001b[34m[87]#011train-error:0.088759\u001b[0m\n",
      "\u001b[34m[13:15:07] src/tree/updater_prune.cc:74: tree pruning end, 1 roots, 42 extra nodes, 114 pruned nodes, max_depth=9\u001b[0m\n",
      "\u001b[34m[88]#011train-error:0.08862\u001b[0m\n",
      "\u001b[34m[13:15:07] src/tree/updater_prune.cc:74: tree pruning end, 1 roots, 20 extra nodes, 86 pruned nodes, max_depth=10\u001b[0m\n",
      "\u001b[34m[89]#011train-error:0.088585\u001b[0m\n",
      "\u001b[34m[13:15:07] src/tree/updater_prune.cc:74: tree pruning end, 1 roots, 22 extra nodes, 108 pruned nodes, max_depth=9\u001b[0m\n",
      "\u001b[34m[90]#011train-error:0.088585\u001b[0m\n",
      "\u001b[34m[13:15:08] src/tree/updater_prune.cc:74: tree pruning end, 1 roots, 30 extra nodes, 138 pruned nodes, max_depth=9\u001b[0m\n",
      "\u001b[34m[91]#011train-error:0.088724\u001b[0m\n",
      "\u001b[34m[13:15:08] src/tree/updater_prune.cc:74: tree pruning end, 1 roots, 60 extra nodes, 122 pruned nodes, max_depth=10\u001b[0m\n",
      "\u001b[34m[92]#011train-error:0.088689\u001b[0m\n",
      "\u001b[34m[13:15:08] src/tree/updater_prune.cc:74: tree pruning end, 1 roots, 50 extra nodes, 82 pruned nodes, max_depth=10\u001b[0m\n",
      "\u001b[34m[93]#011train-error:0.088169\u001b[0m\n",
      "\u001b[34m[13:15:08] src/tree/updater_prune.cc:74: tree pruning end, 1 roots, 46 extra nodes, 128 pruned nodes, max_depth=10\u001b[0m\n",
      "\u001b[34m[94]#011train-error:0.08803\u001b[0m\n",
      "\u001b[34m[13:15:08] src/tree/updater_prune.cc:74: tree pruning end, 1 roots, 42 extra nodes, 154 pruned nodes, max_depth=10\u001b[0m\n",
      "\u001b[34m[95]#011train-error:0.087926\u001b[0m\n",
      "\u001b[34m[13:15:08] src/tree/updater_prune.cc:74: tree pruning end, 1 roots, 32 extra nodes, 150 pruned nodes, max_depth=8\u001b[0m\n",
      "\u001b[34m[96]#011train-error:0.087822\u001b[0m\n",
      "\u001b[34m[13:15:08] src/tree/updater_prune.cc:74: tree pruning end, 1 roots, 28 extra nodes, 118 pruned nodes, max_depth=8\u001b[0m\n",
      "\u001b[34m[97]#011train-error:0.087787\u001b[0m\n",
      "\u001b[34m[13:15:08] src/tree/updater_prune.cc:74: tree pruning end, 1 roots, 26 extra nodes, 136 pruned nodes, max_depth=10\u001b[0m\n",
      "\u001b[34m[98]#011train-error:0.087649\u001b[0m\n",
      "\u001b[34m[99]#011train-error:0.087579\u001b[0m\n",
      "\u001b[34m[13:15:08] src/tree/updater_prune.cc:74: tree pruning end, 1 roots, 16 extra nodes, 116 pruned nodes, max_depth=8\u001b[0m\n",
      "\n",
      "2021-05-10 13:15:17 Uploading - Uploading generated training model\n",
      "2021-05-10 13:15:17 Completed - Training job completed\n",
      "Training seconds: 54\n",
      "Billable seconds: 54\n"
     ]
    }
   ],
   "source": [
    "xgb.fit({'train': s3_input_train})"
   ]
  },
  {
   "cell_type": "code",
   "execution_count": 32,
   "id": "d60a9f4a",
   "metadata": {},
   "outputs": [
    {
     "name": "stdout",
     "output_type": "stream",
     "text": [
      "-------------!"
     ]
    }
   ],
   "source": [
    "xgb_predictor = xgb.deploy(initial_instance_count=1,instance_type='ml.m4.xlarge')"
   ]
  },
  {
   "cell_type": "code",
   "execution_count": 33,
   "id": "927d9c41",
   "metadata": {},
   "outputs": [
    {
     "name": "stdout",
     "output_type": "stream",
     "text": [
      "(12357,)\n"
     ]
    }
   ],
   "source": [
    "from sagemaker.serializers import CSVSerializer\n",
    "\n",
    "test_data_array = X_test.values #load the data into an array\n",
    "xgb_predictor.serializer = CSVSerializer() # set the serializer type\n",
    "predictions = xgb_predictor.predict(test_data_array).decode('utf-8') # predict!\n",
    "predictions_array = np.fromstring(predictions[1:], sep=',') # and turn the prediction into an array\n",
    "print(predictions_array.shape)"
   ]
  },
  {
   "cell_type": "code",
   "execution_count": 34,
   "id": "211a3326",
   "metadata": {},
   "outputs": [
    {
     "name": "stdout",
     "output_type": "stream",
     "text": [
      "\n",
      "Overall Classification Rate: 89.5%\n",
      "\n",
      "Predicted      No Purchase    Purchase\n",
      "Observed\n",
      "No Purchase    91% (10749)    41% (219)\n",
      "Purchase        9% (1074)     59% (315) \n",
      "\n"
     ]
    }
   ],
   "source": [
    "cm = pd.crosstab(index = y_test, columns=np.round(predictions_array), rownames=['Observed'], colnames=['Predicted'])\n",
    "tn = cm.iloc[0,0]; fn = cm.iloc[1,0]; tp = cm.iloc[1,1]; fp = cm.iloc[0,1]; p = (tp+tn)/(tp+tn+fp+fn)*100\n",
    "print(\"\\n{0:<20}{1:<4.1f}%\\n\".format(\"Overall Classification Rate: \", p))\n",
    "print(\"{0:<15}{1:<15}{2:>8}\".format(\"Predicted\", \"No Purchase\", \"Purchase\"))\n",
    "print(\"Observed\")\n",
    "print(\"{0:<15}{1:<2.0f}% ({2:<}){3:>6.0f}% ({4:<})\".format(\"No Purchase\", tn/(tn+fn)*100,tn, fp/(tp+fp)*100, fp))\n",
    "print(\"{0:<16}{1:<1.0f}% ({2:<}){3:>7.0f}% ({4:<}) \\n\".format(\"Purchase\", fn/(tn+fn)*100,fn, tp/(tp+fp)*100, tp))"
   ]
  },
  {
   "cell_type": "code",
   "execution_count": null,
   "id": "5168fa8d",
   "metadata": {},
   "outputs": [],
   "source": [
    "xgb_predictor.delete_endpoint()\n",
    "xgb_predictor.delete_model()"
   ]
  },
  {
   "cell_type": "code",
   "execution_count": 39,
   "id": "c6e40383",
   "metadata": {},
   "outputs": [
    {
     "data": {
      "text/plain": [
       "[{'ResponseMetadata': {'RequestId': 'PJB27X1G49VS5JS6',\n",
       "   'HostId': 'BpQtM+XF+1cJcniElgWReiqBHousaLvsbJEqE0RGJE8Ed3cq8xedfvCYTdKJDqoq30gANtUmugg=',\n",
       "   'HTTPStatusCode': 200,\n",
       "   'HTTPHeaders': {'x-amz-id-2': 'BpQtM+XF+1cJcniElgWReiqBHousaLvsbJEqE0RGJE8Ed3cq8xedfvCYTdKJDqoq30gANtUmugg=',\n",
       "    'x-amz-request-id': 'PJB27X1G49VS5JS6',\n",
       "    'date': 'Mon, 10 May 2021 13:33:11 GMT',\n",
       "    'content-type': 'application/xml',\n",
       "    'transfer-encoding': 'chunked',\n",
       "    'server': 'AmazonS3',\n",
       "    'connection': 'close'},\n",
       "   'RetryAttempts': 0},\n",
       "  'Deleted': [{'Key': 'sagemaker/DEMO-xgboost-dm/train/train.csv'},\n",
       "   {'Key': 'sagemaker/DEMO-xgboost-dm/output/xgboost-2021-05-10-13-11-26-750/profiler-output/system/incremental/2021051013/1620652500.algo-1.json'},\n",
       "   {'Key': 'sagemaker/DEMO-xgboost-dm/output/xgboost-2021-05-10-13-11-26-750/rule-output/ProfilerReport-1620652286/profiler-output/profiler-reports/IOBottleneck.json'},\n",
       "   {'Key': 'sagemaker/DEMO-xgboost-dm/output/xgboost-2021-05-10-13-11-26-750/profiler-output/framework/training_job_end.ts'},\n",
       "   {'Key': 'sagemaker/DEMO-xgboost-dm/output/xgboost-2021-05-10-13-11-26-750/rule-output/ProfilerReport-1620652286/profiler-output/profiler-reports/CPUBottleneck.json'},\n",
       "   {'Key': 'sagemaker/DEMO-xgboost-dm/output/xgboost-2021-05-10-13-11-26-750/rule-output/ProfilerReport-1620652286/profiler-output/profiler-reports/GPUMemoryIncrease.json'},\n",
       "   {'Key': 'sagemaker/DEMO-xgboost-dm/output/xgboost-2021-05-10-13-11-26-750/rule-output/ProfilerReport-1620652286/profiler-output/profiler-reports/MaxInitializationTime.json'},\n",
       "   {'Key': 'sagemaker/DEMO-xgboost-dm/output/xgboost-2021-05-10-13-11-26-750/output/model.tar.gz'},\n",
       "   {'Key': 'sagemaker/DEMO-xgboost-dm/output/xgboost-2021-05-10-13-11-26-750/profiler-output/system/training_job_end.ts'},\n",
       "   {'Key': 'sagemaker/DEMO-xgboost-dm/output/xgboost-2021-05-10-13-11-26-750/rule-output/ProfilerReport-1620652286/profiler-output/profiler-reports/LowGPUUtilization.json'},\n",
       "   {'Key': 'sagemaker/DEMO-xgboost-dm/output/xgboost-2021-05-10-13-11-26-750/rule-output/ProfilerReport-1620652286/profiler-output/profiler-reports/StepOutlier.json'},\n",
       "   {'Key': 'sagemaker/DEMO-xgboost-dm/output/xgboost-2021-05-10-13-11-26-750/rule-output/ProfilerReport-1620652286/profiler-output/profiler-report.html'},\n",
       "   {'Key': 'sagemaker/DEMO-xgboost-dm/output/xgboost-2021-05-10-13-11-26-750/rule-output/ProfilerReport-1620652286/profiler-output/profiler-reports/Dataloader.json'},\n",
       "   {'Key': 'sagemaker/DEMO-xgboost-dm/output/xgboost-2021-05-10-13-11-26-750/profiler-output/system/incremental/2021051013/1620652440.algo-1.json'},\n",
       "   {'Key': 'sagemaker/DEMO-xgboost-dm/output/xgboost-2021-05-10-13-11-26-750/rule-output/ProfilerReport-1620652286/profiler-output/profiler-reports/LoadBalancing.json'},\n",
       "   {'Key': 'sagemaker/DEMO-xgboost-dm/output/xgboost-2021-05-10-13-11-26-750/rule-output/ProfilerReport-1620652286/profiler-output/profiler-reports/OverallFrameworkMetrics.json'},\n",
       "   {'Key': 'sagemaker/DEMO-xgboost-dm/output/xgboost-2021-05-10-13-11-26-750/rule-output/ProfilerReport-1620652286/profiler-output/profiler-reports/BatchSize.json'},\n",
       "   {'Key': 'sagemaker/DEMO-xgboost-dm/output/xgboost-2021-05-10-13-11-26-750/rule-output/ProfilerReport-1620652286/profiler-output/profiler-reports/OverallSystemUsage.json'},\n",
       "   {'Key': 'sagemaker/DEMO-xgboost-dm/output/xgboost-2021-05-10-13-11-26-750/rule-output/ProfilerReport-1620652286/profiler-output/profiler-report.ipynb'}]}]"
      ]
     },
     "execution_count": 39,
     "metadata": {},
     "output_type": "execute_result"
    }
   ],
   "source": [
    "bucket_to_delete = boto3.resource('s3').Bucket(bucket_name)\n",
    "bucket_to_delete.objects.all().delete()"
   ]
  },
  {
   "cell_type": "code",
   "execution_count": null,
   "id": "87a7642c",
   "metadata": {},
   "outputs": [],
   "source": []
  }
 ],
 "metadata": {
  "kernelspec": {
   "display_name": "conda_python3",
   "language": "python",
   "name": "conda_python3"
  },
  "language_info": {
   "codemirror_mode": {
    "name": "ipython",
    "version": 3
   },
   "file_extension": ".py",
   "mimetype": "text/x-python",
   "name": "python",
   "nbconvert_exporter": "python",
   "pygments_lexer": "ipython3",
   "version": "3.6.13"
  }
 },
 "nbformat": 4,
 "nbformat_minor": 5
}
